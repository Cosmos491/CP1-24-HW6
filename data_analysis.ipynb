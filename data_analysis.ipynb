import pickle
import numpy as np
import matplotlib.pyplot as plt
import pandas as pd
from preparation import load_pickle_data, twod_fft_mag, twod_inv_fft

# Path to the pickle file
file_path = 'cube_grid_top_data.pkl'

def custom_load_pickle(file_path):
    """
    Custom wrapper to load a pickle file containing image data.
    
    This function opens the specified pickle file, loads its content,
    and validates that the content is a pandas DataFrame.
    
    Parameters:
    - file_path (str): Path to the pickle file.
    
    Returns:
    - pd.DataFrame: The loaded DataFrame if successful.
    - pd.DataFrame(): An empty DataFrame in case of failure.
    
    Raises:
    - ValueError: If the loaded data is not a DataFrame.
    """
    try:
        # Open the pickle file
        with open(file_path, 'rb') as f:
            data = pickle.load(f)
        # Check if the data is a DataFrame
        if isinstance(data, pd.DataFrame):
            return data
        else:
            raise ValueError("Loaded data is not a DataFrame.")
    except Exception as e:
        # Handle exceptions and return an empty DataFrame on failure
        print(f"Error loading pickle data: {e}")
        return pd.DataFrame()


try:
    # Step 1: Load the pickle file into a pandas DataFrame
    raw_data = custom_load_pickle(file_path)

    if not raw_data.empty:
        """
        Step 2: Extract the image data from the DataFrame.
        
        Assumes that the image data is stored in the first cell of the DataFrame (row 0, column 0).
        Converts the data into a NumPy array for further processing.
        """
        # Extract the single cell containing image data
        cell_data = raw_data.iloc[0, 0]
        print(f"Cell data type: {type(cell_data)}")

        # Convert the extracted cell data to a NumPy array if necessary
        if isinstance(cell_data, np.ndarray):
            image_data = cell_data
        else:
            image_data = np.array(cell_data)

        print(f"Image Shape: {image_data.shape}")

        """
        Step 3: Clean the image using Fourier Transform.
        
        - Perform a 2D Fourier Transform using the `twod_fft_mag` function.
        - Apply a filter to remove low-intensity frequencies.
        - Reconstruct the cleaned image using `twod_inv_fft`.
        """
        # Perform 2D FFT to analyze frequency components
        fft_magnitude = twod_fft_mag(image_data)

        # Filter out low-intensity frequencies (threshold-based filtering)
        threshold = 10  # Threshold value to determine which frequencies to keep
        fft_magnitude_cleaned = np.where(np.abs(fft_magnitude) < threshold, 0, fft_magnitude)

        # Reconstruct the cleaned image using inverse FFT
        cleaned_image = twod_inv_fft(fft_magnitude_cleaned)

        """
        Step 4: Visualize the cleaned image.
        
        - Display the cleaned image using Matplotlib.
        - Ensure both axes are scaled equally (`aspect='equal'`) to make the image squarish.
        """
        # Display the cleaned image
        plt.figure(figsize=(10, 10))  # Set the figure size to a square
        plt.imshow(cleaned_image, cmap='viridis', aspect='equal')  # Ensure equal axis scaling
        plt.title("Cleaned Image")
        plt.colorbar(label='Intensity')  # Add a colorbar to indicate intensity levels
        plt.show()

    else:
        print("The loaded data is empty.")  # Handle case where no data is available

except Exception as e:
    """
    Catch any unhandled exceptions during the process and print an error message.
    """
    print(f"An error occurred: {e}")
